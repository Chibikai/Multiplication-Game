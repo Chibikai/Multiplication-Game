{
 "cells": [
  {
   "cell_type": "code",
   "execution_count": 28,
   "id": "f8929cc5",
   "metadata": {},
   "outputs": [],
   "source": [
    "import random\n",
    "import time"
   ]
  },
  {
   "cell_type": "code",
   "execution_count": 29,
   "id": "abada1c1",
   "metadata": {},
   "outputs": [],
   "source": [
    "# Set up Types of stages\n",
    "def ask_question(stage):\n",
    "    if stage == 1:\n",
    "        # Stage is numbers 0-12\n",
    "        num1 = random.randint(0,12)\n",
    "        num2 = random.randint(0,12)\n",
    "        cor_ans = num1 * num2\n",
    "        question = f\"What is {num1} x {num2}?\"\n",
    "        \n",
    "    elif stage == 2:\n",
    "        # Stage is numbers 10-99 for one set of numbers, and double/single for second\n",
    "        num1 = random.randint(10,99)\n",
    "        num2 = random.randint(0,99)\n",
    "        cor_ans = num1 * num2\n",
    "        question = f\"What is {num1} x {num2}?\"\n",
    "        \n",
    "    elif stage == 3:\n",
    "        # Stage is numbers 100-999 for one set of numbers, and double/single for second\n",
    "        num1 = random.randint(100,999)\n",
    "        num2 = random.randint(0,99)\n",
    "        cor_ans = num1 * num2\n",
    "        question = f\"What is {num1} x {num2}?\"\n",
    "    \n",
    "    else:\n",
    "        print(\"Invalid stage!\")\n",
    "        # If invalid stage, return false\n",
    "        return False \n",
    "    \n",
    "    # Ask the question and get input\n",
    "    user_ans = input(question)\n",
    "    \n",
    "    # Check if user input is valid\n",
    "    try:\n",
    "        if int(user_ans) == cor_ans:\n",
    "            return True\n",
    "        else:\n",
    "            return False\n",
    "    \n",
    "    except ValueError:\n",
    "        return False"
   ]
  },
  {
   "cell_type": "code",
   "execution_count": 30,
   "id": "bd41e710",
   "metadata": {},
   "outputs": [],
   "source": [
    "# Option to continue or quit\n",
    "def ask_continue():\n",
    "    response = input(\"\\nDo you want to continue to the next stage? (y/n): \").lower()\n",
    "    if response == 'n':\n",
    "        print(\"Thanks for playing! Goodbye.\")\n",
    "        return False\n",
    "    return True"
   ]
  },
  {
   "cell_type": "code",
   "execution_count": 31,
   "id": "54eeab25",
   "metadata": {},
   "outputs": [],
   "source": [
    "# Main Game Loop\n",
    "\n",
    "def start_game():\n",
    "    print(\"Let's Practice Our Multiplication\")\n",
    "    time.sleep(1)\n",
    "    print(\"You will advance through different stages of multiplication problems.\")\n",
    "    time.sleep(2)\n",
    "    \n",
    "    # User will input the stage they want to start\n",
    "    stage = int(input(\"Enter the stage to start. 1, 2, 3\"))\n",
    "    \n",
    "    while stage <= 3:\n",
    "        #Initialize correct counter\n",
    "        cor_count = 0\n",
    "            \n",
    "        print(f\"\\n--- Stage {stage} ---\")\n",
    "        # Repeats until player reaches 10\n",
    "        while cor_count < 10:\n",
    "            if ask_question(stage):\n",
    "                # Increment for correct answers\n",
    "                cor_count += 1\n",
    "                print(f\"You have {cor_count} correct answers so far!\")\n",
    "                    \n",
    "            else:\n",
    "                print(\"Incorrect answer. Try again.\")\n",
    "                    \n",
    "            time.sleep(1)\n",
    "                \n",
    "        print(f\"Congratulations! You have answered 10 questions correct in Stage {stage}.\")\n",
    "        stage += 1\n",
    "        time.sleep(1)\n",
    "        \n",
    "        # Ask if they want to continue\n",
    "        if not ask_continue():\n",
    "            break \n",
    "            \n",
    "    print(\"Congratulations! You have completed all stages.\")"
   ]
  },
  {
   "cell_type": "code",
   "execution_count": 32,
   "id": "2223fab5",
   "metadata": {},
   "outputs": [
    {
     "name": "stdout",
     "output_type": "stream",
     "text": [
      "Let's Practice Our Multiplication\n",
      "You will advance through different stages of multiplication problems.\n",
      "Enter the stage to start. 1, 2, 31\n",
      "\n",
      "--- Stage 1 ---\n",
      "What is 10 x 12?120\n",
      "You have 1 correct answers so far!\n",
      "What is 2 x 12?24\n",
      "You have 2 correct answers so far!\n",
      "What is 7 x 8?56\n",
      "You have 3 correct answers so far!\n",
      "What is 5 x 5?25\n",
      "You have 4 correct answers so far!\n",
      "What is 3 x 1?3\n",
      "You have 5 correct answers so far!\n",
      "What is 8 x 3?24\n",
      "You have 6 correct answers so far!\n",
      "What is 7 x 10?70\n",
      "You have 7 correct answers so far!\n",
      "What is 5 x 1?5\n",
      "You have 8 correct answers so far!\n",
      "What is 4 x 12?48\n",
      "You have 9 correct answers so far!\n",
      "What is 0 x 0?0\n",
      "You have 10 correct answers so far!\n",
      "Congratulations! You have answered 10 questions correct in Stage 1.\n",
      "\n",
      "Do you want to continue to the next stage? (y/n): n\n",
      "Thanks for playing! Goodbye.\n",
      "Congratulations! You have completed all stages.\n"
     ]
    }
   ],
   "source": [
    "# Start the game\n",
    "start_game()"
   ]
  },
  {
   "cell_type": "code",
   "execution_count": null,
   "id": "10dcadce",
   "metadata": {},
   "outputs": [],
   "source": []
  }
 ],
 "metadata": {
  "kernelspec": {
   "display_name": "Python 3 (ipykernel)",
   "language": "python",
   "name": "python3"
  },
  "language_info": {
   "codemirror_mode": {
    "name": "ipython",
    "version": 3
   },
   "file_extension": ".py",
   "mimetype": "text/x-python",
   "name": "python",
   "nbconvert_exporter": "python",
   "pygments_lexer": "ipython3",
   "version": "3.10.6"
  }
 },
 "nbformat": 4,
 "nbformat_minor": 5
}
